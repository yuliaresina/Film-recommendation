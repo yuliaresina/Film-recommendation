{
 "cells": [
  {
   "cell_type": "code",
   "execution_count": 62,
   "metadata": {},
   "outputs": [
    {
     "data": {
      "text/html": [
       "<div>\n",
       "<style scoped>\n",
       "    .dataframe tbody tr th:only-of-type {\n",
       "        vertical-align: middle;\n",
       "    }\n",
       "\n",
       "    .dataframe tbody tr th {\n",
       "        vertical-align: top;\n",
       "    }\n",
       "\n",
       "    .dataframe thead th {\n",
       "        text-align: right;\n",
       "    }\n",
       "</style>\n",
       "<table border=\"1\" class=\"dataframe\">\n",
       "  <thead>\n",
       "    <tr style=\"text-align: right;\">\n",
       "      <th></th>\n",
       "      <th>title</th>\n",
       "      <th>genres</th>\n",
       "      <th>tag</th>\n",
       "      <th>similarity_score</th>\n",
       "    </tr>\n",
       "  </thead>\n",
       "  <tbody>\n",
       "    <tr>\n",
       "      <th>10033</th>\n",
       "      <td>Coronado (2003)</td>\n",
       "      <td>[Action, Adventure, War]</td>\n",
       "      <td></td>\n",
       "      <td>0.942809</td>\n",
       "    </tr>\n",
       "    <tr>\n",
       "      <th>5066</th>\n",
       "      <td>Time Machine, The (2002)</td>\n",
       "      <td>[Action, Adventure, Sci-Fi]</td>\n",
       "      <td>Crappy Remake seen time travel future inventor...</td>\n",
       "      <td>0.916900</td>\n",
       "    </tr>\n",
       "    <tr>\n",
       "      <th>4263</th>\n",
       "      <td>Lara Croft: Tomb Raider (2001)</td>\n",
       "      <td>[Action, Adventure]</td>\n",
       "      <td>adventure Angelina Jolie sexy boring video gam...</td>\n",
       "      <td>0.904744</td>\n",
       "    </tr>\n",
       "    <tr>\n",
       "      <th>14679</th>\n",
       "      <td>Robin Hood (2010)</td>\n",
       "      <td>[Action, Adventure, Drama, Romance, War]</td>\n",
       "      <td>adventure Cate Blanchett England unhistorical ...</td>\n",
       "      <td>0.903434</td>\n",
       "    </tr>\n",
       "    <tr>\n",
       "      <th>1965</th>\n",
       "      <td>Honey, I Shrunk the Kids (1989)</td>\n",
       "      <td>[Adventure, Children, Comedy, Fantasy, Sci-Fi]</td>\n",
       "      <td>kids To See adventure better than expected Bit...</td>\n",
       "      <td>0.903384</td>\n",
       "    </tr>\n",
       "  </tbody>\n",
       "</table>\n",
       "</div>"
      ],
      "text/plain": [
       "                                 title  \\\n",
       "10033                  Coronado (2003)   \n",
       "5066          Time Machine, The (2002)   \n",
       "4263    Lara Croft: Tomb Raider (2001)   \n",
       "14679                Robin Hood (2010)   \n",
       "1965   Honey, I Shrunk the Kids (1989)   \n",
       "\n",
       "                                               genres  \\\n",
       "10033                        [Action, Adventure, War]   \n",
       "5066                      [Action, Adventure, Sci-Fi]   \n",
       "4263                              [Action, Adventure]   \n",
       "14679        [Action, Adventure, Drama, Romance, War]   \n",
       "1965   [Adventure, Children, Comedy, Fantasy, Sci-Fi]   \n",
       "\n",
       "                                                     tag  similarity_score  \n",
       "10033                                                             0.942809  \n",
       "5066   Crappy Remake seen time travel future inventor...          0.916900  \n",
       "4263   adventure Angelina Jolie sexy boring video gam...          0.904744  \n",
       "14679  adventure Cate Blanchett England unhistorical ...          0.903434  \n",
       "1965   kids To See adventure better than expected Bit...          0.903384  "
      ]
     },
     "execution_count": 62,
     "metadata": {},
     "output_type": "execute_result"
    }
   ],
   "source": [
    "from film import load_data, compute_similarity, recommend_movies\n",
    "\n",
    "movies = load_data()\n",
    "cosine_sim = compute_similarity(movies)\n",
    "\n",
    "recommend_movies(\"Jumanji (1995)\", movies, cosine_sim)\n",
    "\n"
   ]
  }
 ],
 "metadata": {
  "kernelspec": {
   "display_name": "base",
   "language": "python",
   "name": "python3"
  },
  "language_info": {
   "codemirror_mode": {
    "name": "ipython",
    "version": 3
   },
   "file_extension": ".py",
   "mimetype": "text/x-python",
   "name": "python",
   "nbconvert_exporter": "python",
   "pygments_lexer": "ipython3",
   "version": "3.12.7"
  }
 },
 "nbformat": 4,
 "nbformat_minor": 2
}
